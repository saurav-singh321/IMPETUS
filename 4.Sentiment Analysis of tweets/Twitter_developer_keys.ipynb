{
 "cells": [
  {
   "cell_type": "code",
   "execution_count": null,
   "id": "bc148c99",
   "metadata": {},
   "outputs": [],
   "source": [
    "consumer_key = \"094SGrKrtHeLH8SmtskHO9gGg\"\n",
    "consumer_secret = \"vepA2TMLbMvjzGCBr49AY9y2Y2n9QxIApIhbb3gySKtqkYIy8q\"\n",
    "access_token = \"1551925772633645056-VEh4J4Z47YMEb5BB6EaAHhTSBvn2ef\"\n",
    "access_token_secret = \"zaA0ZULs4flerYOSI2aiIu24AoHCdcvEJmfeWb9jZZ6kN\""
   ]
  }
 ],
 "metadata": {
  "kernelspec": {
   "display_name": "Python 3",
   "language": "python",
   "name": "python3"
  },
  "language_info": {
   "codemirror_mode": {
    "name": "ipython",
    "version": 3
   },
   "file_extension": ".py",
   "mimetype": "text/x-python",
   "name": "python",
   "nbconvert_exporter": "python",
   "pygments_lexer": "ipython3",
   "version": "3.8.8"
  }
 },
 "nbformat": 4,
 "nbformat_minor": 5
}
