{
 "cells": [
  {
   "cell_type": "code",
   "execution_count": 1,
   "id": "17af5171",
   "metadata": {},
   "outputs": [],
   "source": [
    "import pandas as pd\n",
    "import re\n",
    "import joblib\n",
    "from vaderSentiment.vaderSentiment import SentimentIntensityAnalyzer\n",
    "from sklearn.feature_extraction.text import TfidfVectorizer\n",
    "import warnings"
   ]
  },
  {
   "cell_type": "code",
   "execution_count": 2,
   "id": "da5da483",
   "metadata": {},
   "outputs": [],
   "source": [
    "# importing file\n",
    "file = pd.read_csv('Accuracy_tweets_data.csv')\n",
    "df = pd.DataFrame(file)\n",
    "df = df.head(10)\n",
    "warnings.filterwarnings('ignore')\n",
    "# df['text'] = df['text'].astype(str)  "
   ]
  },
  {
   "cell_type": "code",
   "execution_count": 3,
   "id": "9dde1303",
   "metadata": {},
   "outputs": [],
   "source": [
    "# taking only 2 columns which is necessary\n",
    "df1 = df[['text','airline_sentiment']]"
   ]
  },
  {
   "cell_type": "code",
   "execution_count": 4,
   "id": "792cfaf3",
   "metadata": {},
   "outputs": [],
   "source": [
    "# cleaning text\n",
    "def filter_txt(twts):\n",
    "    twts = re.sub(r'@[A-Za-z0-9]+', '', twts)  # removing @mentions\n",
    "    twts = re.sub(r'RT[\\s]+','',twts) # removing RT\n",
    "    twts = re.sub(r'#','',twts) # removing #\n",
    "    twts = re.sub(r'https?://(t|www).([a-zA-Z0-9/]+)','',twts) # removing https links\n",
    "    twts = re.sub(r'[\\n]+','',twts) # removing \\n\n",
    "    twts = re.sub(r'_','',twts)\n",
    "    twts = re.sub(r'^(,|.|-)','',twts)\n",
    "    twts = re.sub(r'\\s+',' ',twts.strip()) # trim if more then one whitespace\n",
    "    twts = twts.lstrip()\n",
    "    return twts"
   ]
  },
  {
   "cell_type": "code",
   "execution_count": 5,
   "id": "8340c8b6",
   "metadata": {},
   "outputs": [
    {
     "data": {
      "text/html": [
       "<div>\n",
       "<style scoped>\n",
       "    .dataframe tbody tr th:only-of-type {\n",
       "        vertical-align: middle;\n",
       "    }\n",
       "\n",
       "    .dataframe tbody tr th {\n",
       "        vertical-align: top;\n",
       "    }\n",
       "\n",
       "    .dataframe thead th {\n",
       "        text-align: right;\n",
       "    }\n",
       "</style>\n",
       "<table border=\"1\" class=\"dataframe\">\n",
       "  <thead>\n",
       "    <tr style=\"text-align: right;\">\n",
       "      <th></th>\n",
       "      <th>text</th>\n",
       "      <th>airline_sentiment</th>\n",
       "    </tr>\n",
       "  </thead>\n",
       "  <tbody>\n",
       "    <tr>\n",
       "      <th>0</th>\n",
       "      <td>What said.</td>\n",
       "      <td>neutral</td>\n",
       "    </tr>\n",
       "    <tr>\n",
       "      <th>1</th>\n",
       "      <td>plus you've added commercials to the experience... tacky.</td>\n",
       "      <td>positive</td>\n",
       "    </tr>\n",
       "    <tr>\n",
       "      <th>2</th>\n",
       "      <td>I didn't today... Must mean I need to take another trip!</td>\n",
       "      <td>neutral</td>\n",
       "    </tr>\n",
       "    <tr>\n",
       "      <th>3</th>\n",
       "      <td>it's really aggressive to blast obnoxious \"entertainment\" in your guests' faces &amp;amp; they have little recourse</td>\n",
       "      <td>negative</td>\n",
       "    </tr>\n",
       "    <tr>\n",
       "      <th>4</th>\n",
       "      <td>and it's a really big bad thing about it</td>\n",
       "      <td>negative</td>\n",
       "    </tr>\n",
       "    <tr>\n",
       "      <th>5</th>\n",
       "      <td>seriously would pay $30 a flight for seats that didn't have this playing.it's really the only bad thing about flying VA</td>\n",
       "      <td>negative</td>\n",
       "    </tr>\n",
       "    <tr>\n",
       "      <th>6</th>\n",
       "      <td>yes, nearly every time I fly VX this “ear worm” won’t go away :)</td>\n",
       "      <td>positive</td>\n",
       "    </tr>\n",
       "    <tr>\n",
       "      <th>7</th>\n",
       "      <td>Really missed a prime opportunity for Men Without Hats parody, there.</td>\n",
       "      <td>neutral</td>\n",
       "    </tr>\n",
       "    <tr>\n",
       "      <th>8</th>\n",
       "      <td>Well, I didn't…but NOW I DO! :-D</td>\n",
       "      <td>positive</td>\n",
       "    </tr>\n",
       "    <tr>\n",
       "      <th>9</th>\n",
       "      <td>it was amazing, and arrived an hour early. You're too good to me.</td>\n",
       "      <td>positive</td>\n",
       "    </tr>\n",
       "  </tbody>\n",
       "</table>\n",
       "</div>"
      ],
      "text/plain": [
       "                                                                                                                      text  \\\n",
       "0                                                                                                               What said.   \n",
       "1                                                                plus you've added commercials to the experience... tacky.   \n",
       "2                                                                 I didn't today... Must mean I need to take another trip!   \n",
       "3          it's really aggressive to blast obnoxious \"entertainment\" in your guests' faces &amp; they have little recourse   \n",
       "4                                                                                 and it's a really big bad thing about it   \n",
       "5  seriously would pay $30 a flight for seats that didn't have this playing.it's really the only bad thing about flying VA   \n",
       "6                                                         yes, nearly every time I fly VX this “ear worm” won’t go away :)   \n",
       "7                                                    Really missed a prime opportunity for Men Without Hats parody, there.   \n",
       "8                                                                                         Well, I didn't…but NOW I DO! :-D   \n",
       "9                                                        it was amazing, and arrived an hour early. You're too good to me.   \n",
       "\n",
       "  airline_sentiment  \n",
       "0           neutral  \n",
       "1          positive  \n",
       "2           neutral  \n",
       "3          negative  \n",
       "4          negative  \n",
       "5          negative  \n",
       "6          positive  \n",
       "7           neutral  \n",
       "8          positive  \n",
       "9          positive  "
      ]
     },
     "execution_count": 5,
     "metadata": {},
     "output_type": "execute_result"
    }
   ],
   "source": [
    "df1['text'] = df1['text'].apply(filter_txt)\n",
    "pd.set_option('display.max_colwidth', None)\n",
    "df1"
   ]
  },
  {
   "cell_type": "code",
   "execution_count": 6,
   "id": "ab932087",
   "metadata": {},
   "outputs": [],
   "source": [
    "# df1.to_csv('howare.csv')"
   ]
  },
  {
   "cell_type": "code",
   "execution_count": 7,
   "id": "33346475",
   "metadata": {},
   "outputs": [],
   "source": [
    "analyzer = SentimentIntensityAnalyzer()\n",
    "Tweets_polarity = []\n",
    "for twts in df1['text']:\n",
    "    ps = analyzer.polarity_scores(twts)\n",
    "    Tweets_polarity.append({'compound':ps['compound']})\n",
    "    \n",
    "df2 = pd.DataFrame(Tweets_polarity)"
   ]
  },
  {
   "cell_type": "code",
   "execution_count": 8,
   "id": "8c63d01d",
   "metadata": {},
   "outputs": [
    {
     "data": {
      "text/html": [
       "<div>\n",
       "<style scoped>\n",
       "    .dataframe tbody tr th:only-of-type {\n",
       "        vertical-align: middle;\n",
       "    }\n",
       "\n",
       "    .dataframe tbody tr th {\n",
       "        vertical-align: top;\n",
       "    }\n",
       "\n",
       "    .dataframe thead th {\n",
       "        text-align: right;\n",
       "    }\n",
       "</style>\n",
       "<table border=\"1\" class=\"dataframe\">\n",
       "  <thead>\n",
       "    <tr style=\"text-align: right;\">\n",
       "      <th></th>\n",
       "      <th>Tweets</th>\n",
       "      <th>Actual</th>\n",
       "      <th>Predicted</th>\n",
       "    </tr>\n",
       "  </thead>\n",
       "  <tbody>\n",
       "    <tr>\n",
       "      <th>0</th>\n",
       "      <td>What said.</td>\n",
       "      <td>Neutral</td>\n",
       "      <td>Neutral</td>\n",
       "    </tr>\n",
       "    <tr>\n",
       "      <th>1</th>\n",
       "      <td>plus you've added commercials to the experience... tacky.</td>\n",
       "      <td>Positive</td>\n",
       "      <td>Neutral</td>\n",
       "    </tr>\n",
       "    <tr>\n",
       "      <th>2</th>\n",
       "      <td>I didn't today... Must mean I need to take another trip!</td>\n",
       "      <td>Neutral</td>\n",
       "      <td>Neutral</td>\n",
       "    </tr>\n",
       "    <tr>\n",
       "      <th>3</th>\n",
       "      <td>it's really aggressive to blast obnoxious \"entertainment\" in your guests' faces &amp;amp; they have little recourse</td>\n",
       "      <td>Negative</td>\n",
       "      <td>Negative</td>\n",
       "    </tr>\n",
       "    <tr>\n",
       "      <th>4</th>\n",
       "      <td>and it's a really big bad thing about it</td>\n",
       "      <td>Negative</td>\n",
       "      <td>Negative</td>\n",
       "    </tr>\n",
       "    <tr>\n",
       "      <th>5</th>\n",
       "      <td>seriously would pay $30 a flight for seats that didn't have this playing.it's really the only bad thing about flying VA</td>\n",
       "      <td>Negative</td>\n",
       "      <td>Negative</td>\n",
       "    </tr>\n",
       "    <tr>\n",
       "      <th>6</th>\n",
       "      <td>yes, nearly every time I fly VX this “ear worm” won’t go away :)</td>\n",
       "      <td>Positive</td>\n",
       "      <td>Positive</td>\n",
       "    </tr>\n",
       "    <tr>\n",
       "      <th>7</th>\n",
       "      <td>Really missed a prime opportunity for Men Without Hats parody, there.</td>\n",
       "      <td>Neutral</td>\n",
       "      <td>Positive</td>\n",
       "    </tr>\n",
       "    <tr>\n",
       "      <th>8</th>\n",
       "      <td>Well, I didn't…but NOW I DO! :-D</td>\n",
       "      <td>Positive</td>\n",
       "      <td>Positive</td>\n",
       "    </tr>\n",
       "    <tr>\n",
       "      <th>9</th>\n",
       "      <td>it was amazing, and arrived an hour early. You're too good to me.</td>\n",
       "      <td>Positive</td>\n",
       "      <td>Positive</td>\n",
       "    </tr>\n",
       "  </tbody>\n",
       "</table>\n",
       "</div>"
      ],
      "text/plain": [
       "                                                                                                                    Tweets  \\\n",
       "0                                                                                                               What said.   \n",
       "1                                                                plus you've added commercials to the experience... tacky.   \n",
       "2                                                                 I didn't today... Must mean I need to take another trip!   \n",
       "3          it's really aggressive to blast obnoxious \"entertainment\" in your guests' faces &amp; they have little recourse   \n",
       "4                                                                                 and it's a really big bad thing about it   \n",
       "5  seriously would pay $30 a flight for seats that didn't have this playing.it's really the only bad thing about flying VA   \n",
       "6                                                         yes, nearly every time I fly VX this “ear worm” won’t go away :)   \n",
       "7                                                    Really missed a prime opportunity for Men Without Hats parody, there.   \n",
       "8                                                                                         Well, I didn't…but NOW I DO! :-D   \n",
       "9                                                        it was amazing, and arrived an hour early. You're too good to me.   \n",
       "\n",
       "     Actual Predicted  \n",
       "0   Neutral   Neutral  \n",
       "1  Positive   Neutral  \n",
       "2   Neutral   Neutral  \n",
       "3  Negative  Negative  \n",
       "4  Negative  Negative  \n",
       "5  Negative  Negative  \n",
       "6  Positive  Positive  \n",
       "7   Neutral  Positive  \n",
       "8  Positive  Positive  \n",
       "9  Positive  Positive  "
      ]
     },
     "execution_count": 8,
     "metadata": {},
     "output_type": "execute_result"
    }
   ],
   "source": [
    "# Function to classify the scores as pos,neg and neutral\n",
    "def get_analysis(scores):\n",
    "    if scores<0:\n",
    "        return 'Negative'\n",
    "    elif scores==0:\n",
    "        return 'Neutral'\n",
    "    else:\n",
    "        return 'Positive'\n",
    "\n",
    "# Adding column\n",
    "df1['Predicted'] = df2['compound'].apply(get_analysis)\n",
    "df1.rename(columns={'text':'Tweets',\n",
    "                    'airline_sentiment':'Actual'},inplace=True)\n",
    "df1['Actual'] = df1['Actual'].str.capitalize()\n",
    "df1"
   ]
  },
  {
   "cell_type": "raw",
   "id": "d1d09aff",
   "metadata": {},
   "source": [
    "Accuracy - total positive out of all. Used when the True Positives and True Negatives are more important.\n",
    "\n",
    "\n",
    "Precision - prediction actually positive out of total predicted positive. Used whenever False Positive is much more important.\n",
    "\n",
    "\n",
    "Recall - prediction actually positive out of total actually positive. Used whenever False Negative is much more important. \n",
    "\n",
    "\n",
    "F-measure/F1-score - harmonic mean of precision and recall. Used when the False Negatives and False Positives are important. "
   ]
  },
  {
   "cell_type": "code",
   "execution_count": 9,
   "id": "81ece71f",
   "metadata": {},
   "outputs": [],
   "source": [
    "def accuracy_func(actual_value,predicted_value):\n",
    "    correct_predictions = 0\n",
    "    for true, predicted in zip(actual_value,predicted_value):\n",
    "        if true == predicted:\n",
    "            correct_predictions += 1\n",
    "    accuracy = correct_predictions/len(predicted_value)\n",
    "    return accuracy\n",
    "\n",
    "\n",
    "def precision_func(actual_value,predicted_value):\n",
    "    prediction_actual_positive = 0\n",
    "    total_prediction_positive = 0\n",
    "    for true, predicted in zip(actual_value,predicted_value):\n",
    "        if true=='Positive' and predicted =='Positive':\n",
    "            prediction_actual_positive += 1     \n",
    "        if predicted == 'Positive':\n",
    "            total_prediction_positive+=1\n",
    "    precision = prediction_actual_positive/total_prediction_positive\n",
    "    return precision\n",
    "\n",
    "\n",
    "def recall_func(actual_value,predicted_value):\n",
    "    prediction_actual_positive = 0\n",
    "    total_actual_positive = 0\n",
    "    for true, predicted in zip(actual_value,predicted_value):\n",
    "        if true=='Positive' and predicted =='Positive':\n",
    "            prediction_actual_positive += 1     \n",
    "        if true=='Positive':\n",
    "            total_actual_positive+=1\n",
    "    recall = prediction_actual_positive/total_actual_positive\n",
    "    return recall"
   ]
  },
  {
   "cell_type": "code",
   "execution_count": 10,
   "id": "226b0c3f",
   "metadata": {},
   "outputs": [
    {
     "data": {
      "text/plain": [
       "0.8"
      ]
     },
     "execution_count": 10,
     "metadata": {},
     "output_type": "execute_result"
    }
   ],
   "source": [
    "# accuracy\n",
    "accuracy_func(df1['Actual'],df1['Predicted'])"
   ]
  },
  {
   "cell_type": "code",
   "execution_count": 11,
   "id": "9c951b8e",
   "metadata": {},
   "outputs": [
    {
     "data": {
      "text/plain": [
       "0.75"
      ]
     },
     "execution_count": 11,
     "metadata": {},
     "output_type": "execute_result"
    }
   ],
   "source": [
    "# precision\n",
    "precision_func(df1['Actual'],df1['Predicted'])"
   ]
  },
  {
   "cell_type": "code",
   "execution_count": 12,
   "id": "4db65fdd",
   "metadata": {},
   "outputs": [
    {
     "data": {
      "text/plain": [
       "0.75"
      ]
     },
     "execution_count": 12,
     "metadata": {},
     "output_type": "execute_result"
    }
   ],
   "source": [
    "# recall\n",
    "recall_func(df1['Actual'],df1['Predicted'])"
   ]
  },
  {
   "cell_type": "code",
   "execution_count": 13,
   "id": "eff1e045",
   "metadata": {},
   "outputs": [],
   "source": [
    "model = joblib.load('ml.joblib')"
   ]
  },
  {
   "cell_type": "code",
   "execution_count": 16,
   "id": "3f09b74b",
   "metadata": {},
   "outputs": [],
   "source": [
    "cv = TfidfVectorizer()\n",
    "X = cv.fit_transform(df1['Tweets'])"
   ]
  },
  {
   "cell_type": "code",
   "execution_count": 20,
   "id": "ab6c53d1",
   "metadata": {},
   "outputs": [
    {
     "ename": "ValueError",
     "evalue": "X has 85 features, but DecisionTreeClassifier is expecting 12177 features as input.",
     "output_type": "error",
     "traceback": [
      "\u001b[1;31m---------------------------------------------------------------------------\u001b[0m",
      "\u001b[1;31mValueError\u001b[0m                                Traceback (most recent call last)",
      "\u001b[1;32m<ipython-input-20-43a58eb494e8>\u001b[0m in \u001b[0;36m<module>\u001b[1;34m\u001b[0m\n\u001b[1;32m----> 1\u001b[1;33m \u001b[0mmodel\u001b[0m\u001b[1;33m.\u001b[0m\u001b[0mpredict\u001b[0m\u001b[1;33m(\u001b[0m\u001b[0mX\u001b[0m\u001b[1;33m)\u001b[0m\u001b[1;33m\u001b[0m\u001b[1;33m\u001b[0m\u001b[0m\n\u001b[0m",
      "\u001b[1;32m~\\anaconda3\\lib\\site-packages\\sklearn\\tree\\_classes.py\u001b[0m in \u001b[0;36mpredict\u001b[1;34m(self, X, check_input)\u001b[0m\n\u001b[0;32m    435\u001b[0m         \"\"\"\n\u001b[0;32m    436\u001b[0m         \u001b[0mcheck_is_fitted\u001b[0m\u001b[1;33m(\u001b[0m\u001b[0mself\u001b[0m\u001b[1;33m)\u001b[0m\u001b[1;33m\u001b[0m\u001b[1;33m\u001b[0m\u001b[0m\n\u001b[1;32m--> 437\u001b[1;33m         \u001b[0mX\u001b[0m \u001b[1;33m=\u001b[0m \u001b[0mself\u001b[0m\u001b[1;33m.\u001b[0m\u001b[0m_validate_X_predict\u001b[0m\u001b[1;33m(\u001b[0m\u001b[0mX\u001b[0m\u001b[1;33m,\u001b[0m \u001b[0mcheck_input\u001b[0m\u001b[1;33m)\u001b[0m\u001b[1;33m\u001b[0m\u001b[1;33m\u001b[0m\u001b[0m\n\u001b[0m\u001b[0;32m    438\u001b[0m         \u001b[0mproba\u001b[0m \u001b[1;33m=\u001b[0m \u001b[0mself\u001b[0m\u001b[1;33m.\u001b[0m\u001b[0mtree_\u001b[0m\u001b[1;33m.\u001b[0m\u001b[0mpredict\u001b[0m\u001b[1;33m(\u001b[0m\u001b[0mX\u001b[0m\u001b[1;33m)\u001b[0m\u001b[1;33m\u001b[0m\u001b[1;33m\u001b[0m\u001b[0m\n\u001b[0;32m    439\u001b[0m         \u001b[0mn_samples\u001b[0m \u001b[1;33m=\u001b[0m \u001b[0mX\u001b[0m\u001b[1;33m.\u001b[0m\u001b[0mshape\u001b[0m\u001b[1;33m[\u001b[0m\u001b[1;36m0\u001b[0m\u001b[1;33m]\u001b[0m\u001b[1;33m\u001b[0m\u001b[1;33m\u001b[0m\u001b[0m\n",
      "\u001b[1;32m~\\anaconda3\\lib\\site-packages\\sklearn\\tree\\_classes.py\u001b[0m in \u001b[0;36m_validate_X_predict\u001b[1;34m(self, X, check_input)\u001b[0m\n\u001b[0;32m    400\u001b[0m         \u001b[1;34m\"\"\"Validate the training data on predict (probabilities).\"\"\"\u001b[0m\u001b[1;33m\u001b[0m\u001b[1;33m\u001b[0m\u001b[0m\n\u001b[0;32m    401\u001b[0m         \u001b[1;32mif\u001b[0m \u001b[0mcheck_input\u001b[0m\u001b[1;33m:\u001b[0m\u001b[1;33m\u001b[0m\u001b[1;33m\u001b[0m\u001b[0m\n\u001b[1;32m--> 402\u001b[1;33m             X = self._validate_data(X, dtype=DTYPE, accept_sparse=\"csr\",\n\u001b[0m\u001b[0;32m    403\u001b[0m                                     reset=False)\n\u001b[0;32m    404\u001b[0m             if issparse(X) and (X.indices.dtype != np.intc or\n",
      "\u001b[1;32m~\\anaconda3\\lib\\site-packages\\sklearn\\base.py\u001b[0m in \u001b[0;36m_validate_data\u001b[1;34m(self, X, y, reset, validate_separately, **check_params)\u001b[0m\n\u001b[0;32m    435\u001b[0m \u001b[1;33m\u001b[0m\u001b[0m\n\u001b[0;32m    436\u001b[0m         \u001b[1;32mif\u001b[0m \u001b[0mcheck_params\u001b[0m\u001b[1;33m.\u001b[0m\u001b[0mget\u001b[0m\u001b[1;33m(\u001b[0m\u001b[1;34m'ensure_2d'\u001b[0m\u001b[1;33m,\u001b[0m \u001b[1;32mTrue\u001b[0m\u001b[1;33m)\u001b[0m\u001b[1;33m:\u001b[0m\u001b[1;33m\u001b[0m\u001b[1;33m\u001b[0m\u001b[0m\n\u001b[1;32m--> 437\u001b[1;33m             \u001b[0mself\u001b[0m\u001b[1;33m.\u001b[0m\u001b[0m_check_n_features\u001b[0m\u001b[1;33m(\u001b[0m\u001b[0mX\u001b[0m\u001b[1;33m,\u001b[0m \u001b[0mreset\u001b[0m\u001b[1;33m=\u001b[0m\u001b[0mreset\u001b[0m\u001b[1;33m)\u001b[0m\u001b[1;33m\u001b[0m\u001b[1;33m\u001b[0m\u001b[0m\n\u001b[0m\u001b[0;32m    438\u001b[0m \u001b[1;33m\u001b[0m\u001b[0m\n\u001b[0;32m    439\u001b[0m         \u001b[1;32mreturn\u001b[0m \u001b[0mout\u001b[0m\u001b[1;33m\u001b[0m\u001b[1;33m\u001b[0m\u001b[0m\n",
      "\u001b[1;32m~\\anaconda3\\lib\\site-packages\\sklearn\\base.py\u001b[0m in \u001b[0;36m_check_n_features\u001b[1;34m(self, X, reset)\u001b[0m\n\u001b[0;32m    363\u001b[0m \u001b[1;33m\u001b[0m\u001b[0m\n\u001b[0;32m    364\u001b[0m         \u001b[1;32mif\u001b[0m \u001b[0mn_features\u001b[0m \u001b[1;33m!=\u001b[0m \u001b[0mself\u001b[0m\u001b[1;33m.\u001b[0m\u001b[0mn_features_in_\u001b[0m\u001b[1;33m:\u001b[0m\u001b[1;33m\u001b[0m\u001b[1;33m\u001b[0m\u001b[0m\n\u001b[1;32m--> 365\u001b[1;33m             raise ValueError(\n\u001b[0m\u001b[0;32m    366\u001b[0m                 \u001b[1;34mf\"X has {n_features} features, but {self.__class__.__name__} \"\u001b[0m\u001b[1;33m\u001b[0m\u001b[1;33m\u001b[0m\u001b[0m\n\u001b[0;32m    367\u001b[0m                 f\"is expecting {self.n_features_in_} features as input.\")\n",
      "\u001b[1;31mValueError\u001b[0m: X has 85 features, but DecisionTreeClassifier is expecting 12177 features as input."
     ]
    }
   ],
   "source": [
    "model.predict(X)"
   ]
  },
  {
   "cell_type": "code",
   "execution_count": null,
   "id": "1f6c4191",
   "metadata": {},
   "outputs": [],
   "source": []
  }
 ],
 "metadata": {
  "kernelspec": {
   "display_name": "Python 3",
   "language": "python",
   "name": "python3"
  },
  "language_info": {
   "codemirror_mode": {
    "name": "ipython",
    "version": 3
   },
   "file_extension": ".py",
   "mimetype": "text/x-python",
   "name": "python",
   "nbconvert_exporter": "python",
   "pygments_lexer": "ipython3",
   "version": "3.8.8"
  }
 },
 "nbformat": 4,
 "nbformat_minor": 5
}
